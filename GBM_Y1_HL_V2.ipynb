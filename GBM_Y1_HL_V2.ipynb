{
 "cells": [
  {
   "cell_type": "markdown",
   "metadata": {},
   "source": [
    "# Gradient Boosting Machine for Heating Load"
   ]
  },
  {
   "cell_type": "code",
   "execution_count": 4,
   "metadata": {
    "collapsed": false
   },
   "outputs": [],
   "source": [
    "import sklearn\n",
    "import numpy as np\n",
    "import pandas as pd\n",
    "from matplotlib import pyplot as plt\n",
    "from sklearn.model_selection import train_test_split\n",
    "from sklearn.model_selection import cross_val_score\n",
    "from sklearn.model_selection import cross_validate\n",
    "from sklearn.model_selection import GridSearchCV\n",
    "from sklearn.metrics import mean_squared_error\n",
    "from sklearn.metrics import mean_absolute_error\n",
    "from sklearn.model_selection import KFold\n",
    "from sklearn.ensemble import GradientBoostingClassifier\n",
    "from sklearn.model_selection import validation_curve\n",
    "\n",
    "\n",
    "%matplotlib inline "
   ]
  },
  {
   "cell_type": "markdown",
   "metadata": {},
   "source": [
    "# Preprocessing"
   ]
  },
  {
   "cell_type": "code",
   "execution_count": 2,
   "metadata": {
    "collapsed": false
   },
   "outputs": [
    {
     "name": "stdout",
     "output_type": "stream",
     "text": [
      "Shape x:  (768, 8)     Shape y1_HL: (768,)  Shape y2_CL: (768,)\n"
     ]
    }
   ],
   "source": [
    "dataframe_all=pd.read_csv('ENB2012.csv')\n",
    "dataframe_all.Y1 = dataframe_all.Y1.round()\n",
    "dataframe_all.Y2 = dataframe_all.Y2.round()\n",
    "\n",
    "x = dataframe_all.iloc[:,:-2].values\n",
    "#Extracting the outputs for HeatLoad and ColdLoad.\n",
    "y1_HL=dataframe_all.iloc[:,-2].values.ravel()\n",
    "y2_CL=dataframe_all.iloc[:,-1].values.ravel()\n",
    "print(\"Shape x:  {}     Shape y1_HL: {}  Shape y2_CL: {}\".format(x.shape, y1_HL.shape,y2_CL.shape)) "
   ]
  },
  {
   "cell_type": "code",
   "execution_count": 6,
   "metadata": {
    "collapsed": false
   },
   "outputs": [],
   "source": [
    "# 25% for Test Size\n",
    "X_train, X_test, y_train, y_test = train_test_split(x, y1_HL,random_state=0)\n",
    "kfold = KFold(n_splits=5, shuffle=True, random_state=0)"
   ]
  },
  {
   "cell_type": "markdown",
   "metadata": {},
   "source": [
    "# Grid Search"
   ]
  },
  {
   "cell_type": "code",
   "execution_count": 3,
   "metadata": {
    "collapsed": false
   },
   "outputs": [
    {
     "name": "stdout",
     "output_type": "stream",
     "text": [
      "Parameter grid:\n",
      "[{'max_depth': [2, 3, 4, 5], 'n_estimators': [40, 50, 100, 500]}]\n"
     ]
    }
   ],
   "source": [
    "#Find M Boosting Iterations\n",
    "param_grid = [{'max_depth':[2,3,4,5],'n_estimators':[40,50,100,500]}]\n",
    "print(\"Parameter grid:\\n{}\".format(param_grid))"
   ]
  },
  {
   "cell_type": "code",
   "execution_count": 65,
   "metadata": {
    "collapsed": false
   },
   "outputs": [
    {
     "name": "stdout",
     "output_type": "stream",
     "text": [
      "Best parameters: {'max_depth': 4, 'n_estimators': 50}\n",
      "Best cross-validation score: -0.98\n",
      "Test set score: -0.64\n"
     ]
    }
   ],
   "source": [
    "grid_search = GridSearchCV(GradientBoostingClassifier(\n",
    "                            #max_depth=3,\n",
    "                            #learning_rate=0.1,\n",
    "                            #subsample =0.9,                                            \n",
    "                            random_state =0\n",
    "                            ) \n",
    "                               , param_grid, cv=kfold, scoring='neg_mean_squared_error')\n",
    "\n",
    "grid_search.fit(X_train, y_train)\n",
    "\n",
    "print(\"Best parameters: {}\".format(grid_search.best_params_))\n",
    "print(\"Best cross-validation score: {:.2f}\".format(grid_search.best_score_))\n",
    "print(\"Test set score: {:.2f}\".format(grid_search.score(X_test, y_test)))\n"
   ]
  },
  {
   "cell_type": "code",
   "execution_count": 66,
   "metadata": {
    "collapsed": false
   },
   "outputs": [],
   "source": [
    "results = pd.DataFrame(grid_search.cv_results_)\n",
    "scores = grid_search.cv_results_['mean_test_score'].reshape(len(param_grid[0]['n_estimators']), len(param_grid[0]['max_depth']))\n"
   ]
  },
  {
   "cell_type": "markdown",
   "metadata": {},
   "source": [
    "## Hyperparameter Heatmap"
   ]
  },
  {
   "cell_type": "code",
   "execution_count": 69,
   "metadata": {
    "collapsed": false
   },
   "outputs": [
    {
     "data": {
      "image/png": "[encoded data removed]",
      "text/plain": [
       "<matplotlib.figure.Figure at 0xcd9ca58>"
      ]
     },
     "metadata": {},
     "output_type": "display_data"
    }
   ],
   "source": [
    "import seaborn as sns\n",
    "ax = sns.heatmap(\n",
    "    np.abs(scores),\n",
    "    cmap=\"OrRd_r\",\n",
    "    cbar=True,\n",
    "    annot=True,\n",
    "    square=True,\n",
    "    fmt='.1f',\n",
    "    yticklabels=(param_grid[0]['max_depth']),\n",
    "    xticklabels=(param_grid[0]['n_estimators']),\n",
    "    annot_kws={'size': 14})\n",
    "plt.xlabel('Number of Boosting Iterations')\n",
    "plt.ylabel('Tree Depht')\n",
    "plt.savefig(\"./plots/GBM/Y1/heatmap_Y1HL.png\", dpi=300, bbox_inches='tight') # save as png\n",
    "plt.show()\n",
    "sns.reset_orig()"
   ]
  },
  {
   "cell_type": "code",
   "execution_count": 8,
   "metadata": {
    "collapsed": false
   },
   "outputs": [
    {
     "name": "stderr",
     "output_type": "stream",
     "text": [
      "C:\\Users\\Diego\\Anaconda3\\lib\\site-packages\\sklearn\\model_selection\\_split.py:597: Warning: The least populated class in y has only 1 members, which is too few. The minimum number of members in any class cannot be less than n_splits=5.\n",
      "  % (min_groups, self.n_splits)), Warning)\n"
     ]
    },
    {
     "data": {
      "image/png": "[encoded data removed]",
      "text/plain": [
       "<matplotlib.figure.Figure at 0x7c36a90>"
      ]
     },
     "metadata": {},
     "output_type": "display_data"
    }
   ],
   "source": [
    "param_range = [10,20,30,40,50,60,70,80,90,100]\n",
    "train_scores, test_scores = validation_curve(\n",
    "                                                estimator=GradientBoostingClassifier(\n",
    "                                                                                        max_depth=4,\n",
    "                                                                                        learning_rate=0.1,                          \n",
    "                                                                                        random_state =0\n",
    "                                                                                        ),\n",
    "                                                X=X_train,\n",
    "                                                y=y_train,\n",
    "                                                param_name=\"n_estimators\",\n",
    "                                                param_range=param_range,\n",
    "                                                scoring='neg_mean_squared_error',\n",
    "                                                cv=5)\n",
    "train_scores = np.abs(train_scores)\n",
    "test_scores = np.abs(test_scores)\n",
    "train_mean = np.mean(train_scores, axis=1)\n",
    "train_std = np.std(train_scores, axis=1)\n",
    "test_mean = np.mean(test_scores, axis=1)\n",
    "test_std = np.std(test_scores, axis=1)\n",
    "\n",
    "plt.plot(param_range, test_mean,\n",
    "    color='red',    \n",
    "    label='Validation MSE')\n",
    "plt.fill_between(param_range,\n",
    "    test_mean + test_std,\n",
    "    test_mean - test_std,\n",
    "    alpha=0.15, color='red')\n",
    "plt.plot(param_range, train_mean,\n",
    "    color='blue',   \n",
    "    label='Training MSE')\n",
    "plt.fill_between(param_range, train_mean + train_std,\n",
    "    train_mean - train_std, alpha=0.15,\n",
    "    color='blue')\n",
    "plt.legend(loc=0, fontsize =10)\n",
    "plt.xlabel(\"Regularization Parameter (Boosting Iterations)\")\n",
    "plt.ylabel('Mean Square Error (MSE)')\n",
    "#plt.xlim([1e-5, 10])\n",
    "#plt.ylim([0, 20])\n",
    "plt.grid(linestyle='dotted')\n",
    "plt.savefig(\"./plots/GBM/Y1/validation_curve_Y1HL.png\", dpi=300, bbox_inches='tight') # save as png\n",
    "plt.show()"
   ]
  },
  {
   "cell_type": "markdown",
   "metadata": {
    "collapsed": true
   },
   "source": [
    "# Early Stopping"
   ]
  },
  {
   "cell_type": "code",
   "execution_count": 56,
   "metadata": {
    "collapsed": false
   },
   "outputs": [],
   "source": [
    "val_error=[]\n",
    "train_error =[] \n",
    "bst_n_estimators_list=[]\n",
    "\n",
    "for i in range (1,11):\n",
    "    X_train_val, X_test_val, y_train_val, y_test_val = train_test_split( X_train, y_train)\n",
    "\n",
    "    gbrt = GradientBoostingClassifier(\n",
    "                                        n_estimators=200,\n",
    "                                        max_depth=4,\n",
    "                                        learning_rate=0.1,\n",
    "                                    )\n",
    "\n",
    "    gbrt.fit(X_train_val, y_train_val)\n",
    "    errors = [mean_squared_error(y_test_val, y_pred)\n",
    "        for y_pred in gbrt.staged_predict(X_test_val)]\n",
    "    val_error.append(errors)\n",
    "\n",
    "    errors_train = [mean_squared_error(y_train_val, y_pred_train)\n",
    "        for y_pred_train in gbrt.staged_predict(X_train_val)]\n",
    "    \n",
    "    train_error.append(errors_train)\n",
    "    bst_n_estimators = np.argmin(errors)\n",
    "    bst_n_estimators_list.append(bst_n_estimators)\n",
    "\n"
   ]
  },
  {
   "cell_type": "code",
   "execution_count": 58,
   "metadata": {
    "collapsed": false
   },
   "outputs": [
    {
     "data": {
      "image/png": "[encoded data removed]",
      "text/plain": [
       "<matplotlib.figure.Figure at 0xc86f128>"
      ]
     },
     "metadata": {},
     "output_type": "display_data"
    }
   ],
   "source": [
    "plt.axvline(np.round(np.mean(bst_n_estimators_list, axis=0)), color='g', linestyle='--',label='Early Stopping M Iteration')\n",
    "plt.xlabel('Boosting Iterations')\n",
    "plt.ylabel('Mean Squared Error (MSE)')\n",
    "#Axes.vlines(x, ymin, ymax, colors='k', linestyles='solid', label='', *, data=None, **kwargs)\n",
    "plt.plot(np.mean(val_error, axis=0), color='r',label='MSE Validation Error')\n",
    "plt.plot(np.mean(train_error, axis=0), color='b',label='MSE Training Error')\n",
    "plt.grid(linestyle='dotted')\n",
    "plt.legend(loc=0, fontsize =10)\n",
    "plt.savefig(\"./plots/GBM/Y1/error_vs_iterations_Y1HL.png\", dpi=300, bbox_inches='tight') # save as png\n",
    "\n",
    "plt.show()"
   ]
  },
  {
   "cell_type": "markdown",
   "metadata": {},
   "source": [
    "# Final Model"
   ]
  },
  {
   "cell_type": "code",
   "execution_count": 72,
   "metadata": {
    "collapsed": false
   },
   "outputs": [
    {
     "name": "stdout",
     "output_type": "stream",
     "text": [
      "Test Set MSE:               0.80±0.50\n",
      "Train Set MSE:              0.04±0.01\n",
      "Validation Set MSE:         0.92±0.21\n"
     ]
    }
   ],
   "source": [
    "MSE_test_list =[]\n",
    "MSE_train_list =[]\n",
    "MSE_val_list=[]\n",
    "\n",
    "#Run for 10 times.\n",
    "for i in range(1,11):\n",
    "    X_train, X_test, y_train, y_test = train_test_split(x, y1_HL)    \n",
    "    kfold = KFold(n_splits=5, shuffle=True)\n",
    "    \n",
    "    gbc =GradientBoostingClassifier(n_estimators=50, max_depth =3 )\n",
    "    scores = cross_validate(gbc, X_train, y_train, scoring='neg_mean_squared_error', cv=kfold, return_train_score=True)\n",
    "    \n",
    "    MSE_val_list.append(np.mean(np.abs(scores['test_score'])))\n",
    "    MSE_train_list.append(np.mean(np.abs(scores['train_score'])))\n",
    "    \n",
    "    gbc.fit(X_train, y_train)\n",
    "    y_pred_test = gbc.predict(X_test)\n",
    "\n",
    "    MSE_test=mean_squared_error(y_test, y_pred_test)\n",
    "    MSE_test_list.append(MSE_test)\n",
    "\n",
    "    \n",
    "print(\"Test Set MSE:               {:.2f}±{:.2f}\".format(np.mean(MSE_test_list),np.std(MSE_test_list)))\n",
    "print(\"Train Set MSE:              {:.2f}±{:.2f}\".format(np.mean(MSE_train_list),np.std(MSE_train_list)))\n",
    "print(\"Validation Set MSE:         {:.2f}±{:.2f}\".format(np.mean(MSE_val_list),np.std(MSE_val_list)))\n"
   ]
  },
  {
   "cell_type": "code",
   "execution_count": 73,
   "metadata": {
    "collapsed": false
   },
   "outputs": [
    {
     "data": {
      "text/plain": [
       "GradientBoostingClassifier(criterion='friedman_mse', init=None,\n",
       "              learning_rate=0.1, loss='deviance', max_depth=3,\n",
       "              max_features=None, max_leaf_nodes=None,\n",
       "              min_impurity_decrease=0.0, min_impurity_split=None,\n",
       "              min_samples_leaf=1, min_samples_split=2,\n",
       "              min_weight_fraction_leaf=0.0, n_estimators=50,\n",
       "              presort='auto', random_state=None, subsample=1.0, verbose=0,\n",
       "              warm_start=False)"
      ]
     },
     "execution_count": 73,
     "metadata": {},
     "output_type": "execute_result"
    }
   ],
   "source": []
  },
  {
   "cell_type": "markdown",
   "metadata": {},
   "source": [
    "## Feature Importance"
   ]
  },
  {
   "cell_type": "code",
   "execution_count": 63,
   "metadata": {
    "collapsed": false
   },
   "outputs": [
    {
     "data": {
      "image/png": "[encoded data removed]",
      "text/plain": [
       "<matplotlib.figure.Figure at 0xc740c50>"
      ]
     },
     "metadata": {},
     "output_type": "display_data"
    }
   ],
   "source": [
    "feature_names=['X1','X2','X3','X4','X5','X6','X7','X8']\n",
    "\n",
    "def plot_feature_importances_cancer(model):\n",
    "    n_features = x.shape[1]\n",
    "    plt.barh(range(n_features), model.feature_importances_, align='center')\n",
    "    plt.yticks(np.arange(n_features), feature_names)\n",
    "    plt.xlabel(\"Feature importance\")\n",
    "    plt.ylabel(\"Feature\")\n",
    "plot_feature_importances_cancer(gbc)\n",
    "plt.savefig(\"./plots/GBM/Y1/feature_importances_Y1HL.png\", dpi=300, bbox_inches='tight') # save as png\n",
    "\n"
   ]
  },
  {
   "cell_type": "markdown",
   "metadata": {},
   "source": [
    "# Metrics"
   ]
  },
  {
   "cell_type": "code",
   "execution_count": 61,
   "metadata": {
    "collapsed": false
   },
   "outputs": [
    {
     "data": {
      "image/png": "[encoded data removed]",
      "text/plain": [
       "<matplotlib.figure.Figure at 0xc812940>"
      ]
     },
     "metadata": {},
     "output_type": "display_data"
    }
   ],
   "source": [
    "from sklearn.metrics import confusion_matrix\n",
    "conf_mx=confusion_matrix(y_test, y_pred_test)\n",
    "plt.matshow(conf_mx, cmap=plt.cm.Blues)\n",
    "plt.xlabel(\"Predicted Label\")\n",
    "plt.ylabel('True Label')\n",
    "plt.savefig(\"./plots/GBM/Y1/confusion_matrix_Y1HL.png\", dpi=300, bbox_inches='tight') # save as png\n",
    "plt.show()"
   ]
  },
  {
   "cell_type": "code",
   "execution_count": 62,
   "metadata": {
    "collapsed": false
   },
   "outputs": [
    {
     "name": "stdout",
     "output_type": "stream",
     "text": [
      "             precision    recall  f1-score   support\n",
      "\n",
      "        6.0       1.00      1.00      1.00         4\n",
      "        7.0       1.00      1.00      1.00         2\n",
      "       10.0       1.00      1.00      1.00         5\n",
      "       11.0       1.00      1.00      1.00        14\n",
      "       12.0       0.73      0.92      0.81        12\n",
      "       13.0       1.00      0.71      0.83        14\n",
      "       14.0       0.75      0.56      0.64        16\n",
      "       15.0       0.79      0.96      0.86        23\n",
      "       16.0       0.67      1.00      0.80         2\n",
      "       17.0       1.00      0.89      0.94         9\n",
      "       18.0       1.00      0.75      0.86         4\n",
      "       19.0       1.00      1.00      1.00         1\n",
      "       20.0       0.50      1.00      0.67         1\n",
      "       21.0       1.00      1.00      1.00         1\n",
      "       23.0       0.00      0.00      0.00         3\n",
      "       24.0       0.73      1.00      0.84         8\n",
      "       25.0       0.67      0.67      0.67         3\n",
      "       26.0       0.50      0.50      0.50         2\n",
      "       28.0       1.00      0.50      0.67         4\n",
      "       29.0       0.69      0.82      0.75        11\n",
      "       30.0       0.60      0.60      0.60         5\n",
      "       31.0       0.00      0.00      0.00         1\n",
      "       32.0       0.75      0.38      0.50        16\n",
      "       33.0       0.31      0.80      0.44         5\n",
      "       35.0       0.00      0.00      0.00         2\n",
      "       36.0       0.33      0.33      0.33         6\n",
      "       37.0       0.40      0.44      0.42         9\n",
      "       39.0       1.00      1.00      1.00         2\n",
      "       40.0       1.00      1.00      1.00         4\n",
      "       41.0       0.50      1.00      0.67         1\n",
      "       42.0       0.00      0.00      0.00         2\n",
      "       43.0       0.00      0.00      0.00         0\n",
      "\n",
      "avg / total       0.75      0.73      0.72       192\n",
      "\n"
     ]
    },
    {
     "name": "stderr",
     "output_type": "stream",
     "text": [
      "C:\\Users\\Diego\\Anaconda3\\lib\\site-packages\\sklearn\\metrics\\classification.py:1135: UndefinedMetricWarning: Precision and F-score are ill-defined and being set to 0.0 in labels with no predicted samples.\n",
      "  'precision', 'predicted', average, warn_for)\n",
      "C:\\Users\\Diego\\Anaconda3\\lib\\site-packages\\sklearn\\metrics\\classification.py:1137: UndefinedMetricWarning: Recall and F-score are ill-defined and being set to 0.0 in labels with no true samples.\n",
      "  'recall', 'true', average, warn_for)\n"
     ]
    }
   ],
   "source": [
    "from sklearn.metrics import classification_report\n",
    "target_names = np.unique(y_test).astype(int).astype(np.str)\n",
    "print(classification_report(y_test, y_pred_test, target_names=None))"
   ]
  }
 ],
 "metadata": {
  "anaconda-cloud": {},
  "kernelspec": {
   "display_name": "Python [default]",
   "language": "python",
   "name": "python3"
  },
  "language_info": {
   "codemirror_mode": {
    "name": "ipython",
    "version": 3
   },
   "file_extension": ".py",
   "mimetype": "text/x-python",
   "name": "python",
   "nbconvert_exporter": "python",
   "pygments_lexer": "ipython3",
   "version": "3.5.2"
  }
 },
 "nbformat": 4,
 "nbformat_minor": 1
}
