{
 "cells": [
  {
   "cell_type": "markdown",
   "metadata": {
    "collapsed": false
   },
   "source": [
    "# Artificial Neural Network for Heating Load"
   ]
  },
  {
   "cell_type": "code",
   "execution_count": 1,
   "metadata": {
    "collapsed": false
   },
   "outputs": [],
   "source": [
    "import sklearn\n",
    "import numpy as np\n",
    "import pandas as pd\n",
    "from matplotlib import pyplot as plt\n",
    "from sklearn.model_selection import train_test_split\n",
    "from sklearn.preprocessing import StandardScaler\n",
    "from sklearn.model_selection import cross_val_score\n",
    "from sklearn.model_selection import GridSearchCV\n",
    "from sklearn.model_selection import KFold\n",
    "from sklearn.neural_network import MLPClassifier\n",
    "from sklearn.model_selection import cross_validate\n",
    "from sklearn.metrics import mean_squared_error\n",
    "from sklearn.metrics import mean_absolute_error\n",
    "from sklearn.model_selection import validation_curve\n",
    "\n",
    "%matplotlib inline  "
   ]
  },
  {
   "cell_type": "markdown",
   "metadata": {},
   "source": [
    "### Preprocessing"
   ]
  },
  {
   "cell_type": "code",
   "execution_count": 2,
   "metadata": {
    "collapsed": false
   },
   "outputs": [
    {
     "name": "stdout",
     "output_type": "stream",
     "text": [
      "Shape x:  (768, 8)     Shape y1_HL: (768,)  Shape y2_CL: (768,)\n"
     ]
    }
   ],
   "source": [
    "dataframe_all=pd.read_csv('ENB2012.csv')\n",
    "dataframe_all.Y1 = dataframe_all.Y1.round()\n",
    "dataframe_all.Y2 = dataframe_all.Y2.round()\n",
    "\n",
    "x = dataframe_all.iloc[:,:-2].values\n",
    "#Extracting the outputs for HeatLoad and ColdLoad.\n",
    "y1_HL=dataframe_all.iloc[:,-2].values.ravel()\n",
    "y2_CL=dataframe_all.iloc[:,-1].values.ravel()\n",
    "print(\"Shape x:  {}     Shape y1_HL: {}  Shape y2_CL: {}\".format(x.shape, y1_HL.shape,y2_CL.shape)) "
   ]
  },
  {
   "cell_type": "markdown",
   "metadata": {
    "collapsed": true
   },
   "source": [
    "### Scaling"
   ]
  },
  {
   "cell_type": "code",
   "execution_count": 3,
   "metadata": {
    "collapsed": false
   },
   "outputs": [],
   "source": [
    "# 25% for Test Size  -  Seed=0 For debugging.\n",
    "X_train, X_test, y_train, y_test = train_test_split(x, y1_HL,random_state=0)\n",
    "# Split for Validation and Trainning Set.\n",
    "X_train_val, X_test_val, y_train_val, y_test_val = train_test_split(X_train, y_train,random_state=0)\n",
    "kfold = KFold(n_splits=5, shuffle=True, random_state=0)\n",
    "\n",
    "#Normalization\n",
    "scaler = StandardScaler()\n",
    "scaler.fit(X_train)\n",
    "X_train_scaled = scaler.transform(X_train)\n",
    "X_test_scaled = scaler.transform(X_test)\n",
    "\n"
   ]
  },
  {
   "cell_type": "markdown",
   "metadata": {},
   "source": [
    "## Grid Search for Hidden Neurons and Learning Rate"
   ]
  },
  {
   "cell_type": "code",
   "execution_count": 168,
   "metadata": {
    "collapsed": false
   },
   "outputs": [
    {
     "name": "stdout",
     "output_type": "stream",
     "text": [
      "Parameter grid:\n",
      "[{'learning_rate_init': [0.5, 0.1, 0.01, 0.001], 'hidden_layer_sizes': [10, 50, 100, 200]}]\n"
     ]
    }
   ],
   "source": [
    "#Find Learning Rate\n",
    "param_grid = [{'hidden_layer_sizes':[10,50,100,200],\n",
    "               'learning_rate_init':[0.5,0.1,0.01,0.001] }]\n",
    "\n",
    "print(\"Parameter grid:\\n{}\".format(param_grid))\n"
   ]
  },
  {
   "cell_type": "code",
   "execution_count": 193,
   "metadata": {
    "collapsed": false
   },
   "outputs": [
    {
     "name": "stdout",
     "output_type": "stream",
     "text": [
      "Best parameters: {'learning_rate_init': 0.5, 'hidden_layer_sizes': 50}\n",
      "Best cross-validation score: -13.15\n",
      "Test set score: -7.95\n"
     ]
    }
   ],
   "source": [
    "grid_search = GridSearchCV(MLPClassifier(\n",
    "                        solver='sgd',               \n",
    "                        learning_rate='constant',                        \n",
    "                        early_stopping = True,                        \n",
    "                        momentum=.9,\n",
    "                        alpha=1e-5,\n",
    "                        random_state=0,\n",
    "                         \n",
    "                        )\n",
    "                           , param_grid, cv=kfold, scoring='neg_mean_squared_error')\n",
    "\n",
    "grid_search.fit(X_train_scaled, y_train)\n",
    "print(\"Best parameters: {}\".format(grid_search.best_params_))\n",
    "print(\"Best cross-validation score: {:.2f}\".format(grid_search.best_score_))\n",
    "print(\"Test set score: {:.2f}\".format(grid_search.score(X_test_scaled, y_test)))\n"
   ]
  },
  {
   "cell_type": "markdown",
   "metadata": {},
   "source": [
    "### Heatmap"
   ]
  },
  {
   "cell_type": "code",
   "execution_count": 194,
   "metadata": {
    "collapsed": false
   },
   "outputs": [
    {
     "data": {
      "image/png": "[encoded data removed]",
      "text/plain": [
       "<matplotlib.figure.Figure at 0xb8fb080>"
      ]
     },
     "metadata": {},
     "output_type": "display_data"
    }
   ],
   "source": [
    "results = pd.DataFrame(grid_search.cv_results_)\n",
    "scores = grid_search.cv_results_['mean_test_score'].reshape(len(param_grid[0]['learning_rate_init']), len(param_grid[0]['hidden_layer_sizes']))\n",
    "import seaborn as sns\n",
    "ax = sns.heatmap(\n",
    "    np.abs(scores),\n",
    "    cmap=\"OrRd_r\",\n",
    "    cbar=True,\n",
    "    annot=True,\n",
    "    square=True,\n",
    "    fmt='.1f',\n",
    "    yticklabels=(param_grid[0]['hidden_layer_sizes']),\n",
    "    xticklabels=(param_grid[0]['learning_rate_init']),\n",
    "    annot_kws={'size': 13})\n",
    "plt.xlabel('Learning Rate')\n",
    "plt.ylabel('Neurons')\n",
    "plt.savefig(\"./plots/ANN/Y1/heatmap_Y1HL.png\", dpi=300, bbox_inches='tight') # save as png\n",
    "plt.show()\n",
    "sns.reset_orig()"
   ]
  },
  {
   "cell_type": "markdown",
   "metadata": {},
   "source": [
    "## Regularization."
   ]
  },
  {
   "cell_type": "markdown",
   "metadata": {},
   "source": [
    "PLOT the MSE on the training and validation set as a function of lambda\n",
    "(this is the regularization graph) and find the optimal lambda.\n"
   ]
  },
  {
   "cell_type": "code",
   "execution_count": 4,
   "metadata": {
    "collapsed": false,
    "scrolled": true
   },
   "outputs": [
    {
     "name": "stderr",
     "output_type": "stream",
     "text": [
      "C:\\Users\\Diego\\Anaconda3\\lib\\site-packages\\sklearn\\model_selection\\_split.py:597: Warning: The least populated class in y has only 1 members, which is too few. The minimum number of members in any class cannot be less than n_splits=5.\n",
      "  % (min_groups, self.n_splits)), Warning)\n"
     ]
    },
    {
     "data": {
      "image/png": "[encoded data removed]",
      "text/plain": [
       "<matplotlib.figure.Figure at 0x11f6898>"
      ]
     },
     "metadata": {},
     "output_type": "display_data"
    }
   ],
   "source": [
    "param_range = np.logspace(-5, 0, 10)\n",
    "train_scores, test_scores = validation_curve(\n",
    "                                                estimator=MLPClassifier(\n",
    "                                                                                        solver='sgd',                                                                                                       \n",
    "                                                                                        learning_rate='constant',                        \n",
    "                                                                                        early_stopping = False,\n",
    "                                                                                        learning_rate_init= 0.5,\n",
    "                                                                                        hidden_layer_sizes=(50,),\n",
    "                                                                                        momentum=.9, \n",
    "                                                                                        random_state=0,\n",
    "\n",
    "                                                                                        ),\n",
    "                                                X=X_train_scaled,\n",
    "                                                y=y_train,\n",
    "                                                param_name=\"alpha\",\n",
    "                                                param_range=param_range,\n",
    "                                                scoring='neg_mean_squared_error',\n",
    "                                                cv=5)\n",
    "train_scores = np.abs(train_scores)\n",
    "test_scores = np.abs(test_scores)\n",
    "train_mean = np.mean(train_scores, axis=1)\n",
    "train_std = np.std(train_scores, axis=1)\n",
    "test_mean = np.mean(test_scores, axis=1)\n",
    "test_std = np.std(test_scores, axis=1)\n",
    "\n",
    "plt.plot(param_range, test_mean,\n",
    "    color='red',    \n",
    "    label='Validation MSE')\n",
    "plt.fill_between(param_range,\n",
    "    test_mean + test_std,\n",
    "    test_mean - test_std,\n",
    "    alpha=0.15, color='red')\n",
    "plt.plot(param_range, train_mean,\n",
    "    color='blue',   \n",
    "    label='Training MSE')\n",
    "plt.fill_between(param_range, train_mean + train_std,\n",
    "    train_mean - train_std, alpha=0.15,\n",
    "    color='blue')\n",
    "#plt.xticks(rotation=45)\n",
    "plt.xscale('log')\n",
    "plt.legend(loc=0, fontsize =10)\n",
    "plt.title(\"Heating load regularization graph\")\n",
    "plt.grid(linestyle='dotted')\n",
    "plt.xlabel(\"Regularization Parameter L2 (Weight Decay)\")\n",
    "plt.ylabel('Mean Square Error (MSE)')\n",
    "#plt.xlim([1e-5, 10])\n",
    "#plt.ylim([0, 20])\n",
    "plt.savefig(\"./plots/ANN/Y1/validation_curve_Y1HL.png\", dpi=300, bbox_inches='tight') # save as png\n",
    "plt.show()"
   ]
  },
  {
   "cell_type": "markdown",
   "metadata": {},
   "source": [
    "## Early Stopping"
   ]
  },
  {
   "cell_type": "code",
   "execution_count": 199,
   "metadata": {
    "collapsed": false
   },
   "outputs": [
    {
     "name": "stderr",
     "output_type": "stream",
     "text": [
      "C:\\Users\\Diego\\Anaconda3\\lib\\site-packages\\sklearn\\neural_network\\multilayer_perceptron.py:564: ConvergenceWarning: Stochastic Optimizer: Maximum iterations (1) reached and the optimization hasn't converged yet.\n",
      "  % self.max_iter, ConvergenceWarning)\n"
     ]
    }
   ],
   "source": [
    "from sklearn.base import clone\n",
    "#split the data again.\n",
    "#Normalization\n",
    "scaler = StandardScaler()\n",
    "scaler.fit(X_train)\n",
    "X_train_val_scaled = scaler.transform(X_train_val)\n",
    "X_test_val_scaled = scaler.transform(X_test_val)\n",
    "\n",
    "\n",
    "minimum_val_error = float(\"inf\")\n",
    "best_epoch = None\n",
    "best_model = None\n",
    "y_MSE_trainning = []\n",
    "y_MSE_validation= []\n",
    "x_epochs=[]\n",
    "\n",
    "clf = MLPClassifier(solver='sgd',\n",
    "                        max_iter=1,\n",
    "                        hidden_layer_sizes=(50,),\n",
    "                        batch_size=X_train_val.shape[0],\n",
    "                        learning_rate='constant',\n",
    "                        learning_rate_init= .1,\n",
    "                        early_stopping = False,\n",
    "                        momentum=.9,\n",
    "                        warm_start=True,\n",
    "                        alpha=1e-05,\n",
    "                        random_state=0)\n",
    "              \n",
    "for epoch in range(200):\n",
    "    clf.fit(X_train_val_scaled, y_train_val) # continues where it left off\n",
    "    \n",
    "    x_epochs.append(epoch)\n",
    "\n",
    "    y_pred_train  = clf.predict(X_train_val_scaled)\n",
    "    y_pred_val    = clf.predict(X_test_val_scaled)\n",
    "    \n",
    "    MSE_train = mean_squared_error(y_train_val, y_pred_train)\n",
    "    MSE_val       = mean_squared_error(y_test_val, y_pred_val)\n",
    "    \n",
    "    y_MSE_validation.append(MSE_val)\n",
    "    y_MSE_trainning.append(MSE_train)\n",
    "    \n",
    "    \n",
    "    if MSE_val < minimum_val_error:\n",
    "        minimum_val_error = MSE_val\n",
    "        best_epoch = epoch\n",
    "        "
   ]
  },
  {
   "cell_type": "markdown",
   "metadata": {},
   "source": [
    "PLOT a graph of the mean square error (MSE) as a function of training\n",
    "epochs. Plot on the same graph the MSE for the validation set."
   ]
  },
  {
   "cell_type": "code",
   "execution_count": 200,
   "metadata": {
    "collapsed": false
   },
   "outputs": [
    {
     "data": {
      "image/png": "[encoded data removed]",
      "text/plain": [
       "<matplotlib.figure.Figure at 0x74a2080>"
      ]
     },
     "metadata": {},
     "output_type": "display_data"
    }
   ],
   "source": [
    "plt.figure(figsize=(6,4))\n",
    "\n",
    "plt.plot(x_epochs,y_MSE_trainning, label='Trainning Set')\n",
    "plt.plot(x_epochs,y_MSE_validation, color='r',label='Validation Set')\n",
    "         \n",
    "plt.title('Mean Squared Error as a function of Epoch - Heating Load')  \n",
    "plt.xlabel('Epoch')\n",
    "plt.ylabel('Mean Squared Error (MSE)')\n",
    "plt.legend(loc='best', fontsize =10)\n",
    "plt.grid(linestyle='dotted')\n",
    "plt.savefig(\"./plots/ANN/Y1/error_vs_epoch_Y1HL.png\", dpi=300, bbox_inches='tight') # save as png\n",
    "plt.show()"
   ]
  },
  {
   "cell_type": "markdown",
   "metadata": {},
   "source": [
    "# Final Model"
   ]
  },
  {
   "cell_type": "code",
   "execution_count": null,
   "metadata": {
    "collapsed": false
   },
   "outputs": [],
   "source": [
    "MSE_test_list =[]\n",
    "MSE_train_list =[]\n",
    "MSE_val_list=[]\n",
    "\n",
    "#Run for 20 times.\n",
    "for i in range(1,21):\n",
    "    X_train, X_test, y_train, y_test = train_test_split(x, y1_HL) #Heating Load\n",
    "    scaler = StandardScaler()\n",
    "    scaler.fit(X_train)\n",
    "    X_train_scaled = scaler.transform(X_train)\n",
    "    X_test_scaled = scaler.transform(X_test)    \n",
    "    kfold = KFold(n_splits=5, shuffle=True)\n",
    "    \n",
    "    mpl= MLPClassifier(\n",
    "                        solver='sgd',\n",
    "                        hidden_layer_sizes=(50,),\n",
    "                        learning_rate='constant',\n",
    "                        learning_rate_init= 0.1,\n",
    "                        early_stopping = False,\n",
    "                        momentum=.9,\n",
    "                        alpha=1e-05\n",
    "                        ) \n",
    "    scores = cross_validate(mpl, X_train_scaled, y_train, scoring='neg_mean_squared_error', cv=kfold, return_train_score=True)\n",
    "    \n",
    "    MSE_val_list.append(np.mean(np.abs(scores['test_score'])))\n",
    "    MSE_train_list.append(np.mean(np.abs(scores['train_score'])))\n",
    "    \n",
    "    mpl.fit(X_train_scaled, y_train)\n",
    "    y_pred_test = mpl.predict(X_test_scaled)\n",
    "\n",
    "    MSE_test=mean_squared_error(y_test, y_pred_test)\n",
    "    MSE_test_list.append(MSE_test)\n",
    "\n",
    "    \n",
    "print(\"Test Set MSE:               {:.2f}±{:.2f}\".format(np.mean(MSE_test_list),np.std(MSE_test_list)))\n",
    "print(\"Train Set MSE:              {:.2f}±{:.2f}\".format(np.mean(MSE_train_list),np.std(MSE_train_list)))\n",
    "print(\"Validation Set MSE:         {:.2f}±{:.2f}\".format(np.mean(MSE_val_list),np.std(MSE_val_list)))\n"
   ]
  },
  {
   "cell_type": "code",
   "execution_count": 202,
   "metadata": {
    "collapsed": false
   },
   "outputs": [
    {
     "data": {
      "text/plain": [
       "MLPClassifier(activation='relu', alpha=1e-05, batch_size='auto', beta_1=0.9,\n",
       "       beta_2=0.999, early_stopping=False, epsilon=1e-08,\n",
       "       hidden_layer_sizes=(50,), learning_rate='constant',\n",
       "       learning_rate_init=0.1, max_iter=200, momentum=0.9,\n",
       "       nesterovs_momentum=True, power_t=0.5, random_state=None,\n",
       "       shuffle=True, solver='sgd', tol=0.0001, validation_fraction=0.1,\n",
       "       verbose=False, warm_start=False)"
      ]
     },
     "execution_count": 202,
     "metadata": {},
     "output_type": "execute_result"
    }
   ],
   "source": [
    "mpl"
   ]
  },
  {
   "cell_type": "code",
   "execution_count": 207,
   "metadata": {
    "collapsed": false
   },
   "outputs": [
    {
     "data": {
      "image/png": "[encoded data removed]",
      "text/plain": [
       "<matplotlib.figure.Figure at 0x751ab70>"
      ]
     },
     "metadata": {},
     "output_type": "display_data"
    }
   ],
   "source": [
    "from sklearn.metrics import confusion_matrix\n",
    "conf_mx=confusion_matrix(y_test, y_pred_test)\n",
    "plt.matshow(conf_mx, cmap=plt.cm.Blues)\n",
    "plt.xlabel(\"Predicted Label\")\n",
    "plt.ylabel('True Label')\n",
    "plt.savefig(\"./plots/ANN/Y1/confusion_matrix_Y1HL.png\", dpi=300, bbox_inches='tight') # save as png\n",
    "plt.show()"
   ]
  },
  {
   "cell_type": "code",
   "execution_count": 208,
   "metadata": {
    "collapsed": false
   },
   "outputs": [
    {
     "name": "stdout",
     "output_type": "stream",
     "text": [
      "             precision    recall  f1-score   support\n",
      "\n",
      "        6.0       1.00      1.00      1.00         2\n",
      "        7.0       1.00      0.50      0.67         2\n",
      "        8.0       1.00      1.00      1.00         1\n",
      "       10.0       1.00      1.00      1.00         4\n",
      "       11.0       0.71      0.83      0.77         6\n",
      "       12.0       0.67      0.75      0.71        16\n",
      "       13.0       0.88      0.75      0.81        20\n",
      "       14.0       0.68      0.72      0.70        18\n",
      "       15.0       0.73      0.73      0.73        15\n",
      "       16.0       0.00      0.00      0.00         3\n",
      "       17.0       0.73      1.00      0.84         8\n",
      "       18.0       0.00      0.00      0.00         2\n",
      "       19.0       0.50      0.50      0.50         4\n",
      "       20.0       0.50      1.00      0.67         1\n",
      "       21.0       0.00      0.00      0.00         3\n",
      "       23.0       0.00      0.00      0.00         4\n",
      "       24.0       0.38      1.00      0.55         3\n",
      "       25.0       0.50      0.60      0.55         5\n",
      "       26.0       1.00      0.40      0.57         5\n",
      "       27.0       0.00      0.00      0.00         1\n",
      "       28.0       0.27      0.60      0.37         5\n",
      "       29.0       0.43      0.46      0.44        13\n",
      "       30.0       0.00      0.00      0.00         8\n",
      "       32.0       0.70      0.88      0.78         8\n",
      "       33.0       0.75      0.50      0.60         6\n",
      "       35.0       1.00      0.50      0.67         2\n",
      "       36.0       0.20      0.25      0.22         4\n",
      "       37.0       0.50      0.50      0.50         8\n",
      "       39.0       0.00      0.00      0.00         1\n",
      "       40.0       0.50      0.33      0.40         6\n",
      "       41.0       0.33      0.40      0.36         5\n",
      "       42.0       0.50      0.50      0.50         2\n",
      "       43.0       0.00      0.00      0.00         1\n",
      "\n",
      "avg / total       0.58      0.59      0.57       192\n",
      "\n"
     ]
    },
    {
     "name": "stderr",
     "output_type": "stream",
     "text": [
      "C:\\Users\\Diego\\Anaconda3\\lib\\site-packages\\sklearn\\metrics\\classification.py:1135: UndefinedMetricWarning: Precision and F-score are ill-defined and being set to 0.0 in labels with no predicted samples.\n",
      "  'precision', 'predicted', average, warn_for)\n"
     ]
    }
   ],
   "source": [
    "from sklearn.metrics import classification_report\n",
    "target_names = np.unique(y_test).astype(int).astype(np.str)\n",
    "print(classification_report(y_test, y_pred_test, target_names=None))"
   ]
  }
 ],
 "metadata": {
  "anaconda-cloud": {},
  "kernelspec": {
   "display_name": "Python [default]",
   "language": "python",
   "name": "python3"
  },
  "language_info": {
   "codemirror_mode": {
    "name": "ipython",
    "version": 3
   },
   "file_extension": ".py",
   "mimetype": "text/x-python",
   "name": "python",
   "nbconvert_exporter": "python",
   "pygments_lexer": "ipython3",
   "version": "3.5.2"
  }
 },
 "nbformat": 4,
 "nbformat_minor": 1
}
